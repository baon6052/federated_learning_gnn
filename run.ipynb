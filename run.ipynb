{
 "cells": [
  {
   "cell_type": "code",
   "execution_count": 1,
   "metadata": {},
   "outputs": [
    {
     "name": "stdout",
     "output_type": "stream",
     "text": [
      "Starting server\n",
      "INFO flwr 2023-12-30 22:03:29,816 | app.py:163 | Starting Flower server, config: ServerConfig(num_rounds=1, round_timeout=None)\n",
      "INFO flwr 2023-12-30 22:03:29,829 | app.py:176 | Flower ECE: gRPC server running (1 rounds), SSL is disabled\n",
      "INFO flwr 2023-12-30 22:03:29,829 | server.py:89 | Initializing global parameters\n",
      "INFO flwr 2023-12-30 22:03:29,829 | server.py:276 | Requesting initial parameters from one random client\n",
      "Starting client 0\n",
      "Number of graphs: 1\n",
      "Number of features: 1433\n",
      "Number of classes: 7\n",
      "Number of nodes: 2708\n",
      "Number of edges: 10556\n",
      "Average node degree: 3.90\n",
      "Number of training nodes: 140\n",
      "Training node label rate: 0.05\n",
      "Has isolated nodes: False\n",
      "Has self-loops: False\n",
      "Is undirected: True\n",
      "INFO flwr 2023-12-30 22:03:36,004 | grpc.py:52 | Opened insecure gRPC connection (no certificates were passed)\n",
      "DEBUG flwr 2023-12-30 22:03:36,006 | connection.py:42 | ChannelConnectivity.IDLE\n",
      "DEBUG flwr 2023-12-30 22:03:36,013 | connection.py:42 | ChannelConnectivity.CONNECTING\n",
      "DEBUG flwr 2023-12-30 22:03:36,014 | connection.py:42 | ChannelConnectivity.READY\n",
      "INFO flwr 2023-12-30 22:03:36,034 | server.py:280 | Received initial parameters from one random client\n",
      "INFO flwr 2023-12-30 22:03:36,035 | server.py:91 | Evaluating initial parameters\n",
      "INFO flwr 2023-12-30 22:03:36,035 | server.py:104 | FL starting\n",
      "DEBUG flwr 2023-12-30 22:03:36,035 | server.py:222 | fit_round 1: strategy sampled 1 clients (out of 1)\n",
      "GPU available: True (mps), used: False\n",
      "TPU available: False, using: 0 TPU cores\n",
      "IPU available: False, using: 0 IPUs\n",
      "HPU available: False, using: 0 HPUs\n",
      "/Users/baonguyen/anaconda3/lib/python3.11/site-packages/lightning/pytorch/trainer/setup.py:187: GPU available but not used. You can set it by doing `Trainer(accelerator='gpu')`.\n",
      "/Users/baonguyen/anaconda3/lib/python3.11/site-packages/lightning/pytorch/trainer/connectors/logger_connector/logger_connector.py:67: Starting from v1.9.0, `tensorboardX` has been removed as a dependency of the `lightning.pytorch` package, due to potential conflicts with other packages in the ML ecosystem. For this reason, `logger=True` will use `CSVLogger` as the default logger, unless the `tensorboard` or `tensorboardX` packages are found. Please `pip install lightning[extra]` or one of them to enable TensorBoard support by default\n",
      "\n",
      "  | Name      | Type             | Params\n",
      "-----------------------------------------------\n",
      "0 | conv1     | GATConv          | 91.9 K\n",
      "1 | conv2     | GATConv          | 469   \n",
      "2 | criterion | CrossEntropyLoss | 0     \n",
      "-----------------------------------------------\n",
      "92.4 K    Trainable params\n",
      "0         Non-trainable params\n",
      "92.4 K    Total params\n",
      "0.369     Total estimated model params size (MB)\n",
      "/Users/baonguyen/anaconda3/lib/python3.11/site-packages/lightning/pytorch/trainer/connectors/data_connector.py:441: The 'val_dataloader' does not have many workers which may be a bottleneck. Consider increasing the value of the `num_workers` argument` to `num_workers=11` in the `DataLoader` to improve performance.\n",
      "/Users/baonguyen/anaconda3/lib/python3.11/site-packages/lightning/pytorch/utilities/data.py:77: Trying to infer the `batch_size` from an ambiguous collection. The batch size we found is 2708. To avoid any miscalculations, use `self.log(..., batch_size=batch_size)`.\n",
      "/Users/baonguyen/anaconda3/lib/python3.11/site-packages/lightning/pytorch/trainer/connectors/data_connector.py:441: The 'train_dataloader' does not have many workers which may be a bottleneck. Consider increasing the value of the `num_workers` argument` to `num_workers=11` in the `DataLoader` to improve performance.\n",
      "/Users/baonguyen/anaconda3/lib/python3.11/site-packages/lightning/pytorch/loops/fit_loop.py:293: The number of training batches (1) is smaller than the logging interval Trainer(log_every_n_steps=50). Set a lower value for log_every_n_steps if you want to see logs for the training epoch.\n",
      "^C\n",
      "run.sh: line 17: kill: (-60220) - No such process\n"
     ]
    }
   ],
   "source": [
    "!bash run.sh"
   ]
  },
  {
   "cell_type": "code",
   "execution_count": null,
   "metadata": {},
   "outputs": [],
   "source": []
  }
 ],
 "metadata": {
  "kernelspec": {
   "display_name": "base",
   "language": "python",
   "name": "python3"
  },
  "language_info": {
   "codemirror_mode": {
    "name": "ipython",
    "version": 3
   },
   "file_extension": ".py",
   "mimetype": "text/x-python",
   "name": "python",
   "nbconvert_exporter": "python",
   "pygments_lexer": "ipython3",
   "version": "3.11.5"
  }
 },
 "nbformat": 4,
 "nbformat_minor": 2
}
